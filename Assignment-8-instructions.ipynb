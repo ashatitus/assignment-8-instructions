{
 "cells": [
  {
   "cell_type": "markdown",
   "metadata": {},
   "source": [
    "# ST445 Managing and Visualizing Data\n",
    "\n",
    "## Week 8 Assignment, MT 2017\n",
    "\n",
    "---\n",
    "\n",
    "**Note: This assignment will be assessed. Deadline: 5pm, 22 November 2017**"
   ]
  },
  {
   "cell_type": "markdown",
   "metadata": {},
   "source": [
    "### A. Exploratory data analysis (20 points)\n",
    "\n",
    "In this exercise you need to visualize the popularity of different programming languages with respect to their usage by different GitHub repositories. You need to use the data retrieved from the GitHub archive provided in the following file: [```repos-per-lang.csv```](repos-per-lang.csv). In particular, you need to:\n",
    "\n",
    "1. Plot the empirical cumulative distribution function of the number of repositories per programming language. \n",
    "2. Plot the empirical complementary cumulative distribution function in different axis scales (linear or logarithmic). Discuss the shape of the distribution.   \n",
    "3. Show a stem plot of the number of repositories per programming language in decreasing order. \n",
    "4. Generate a horizontal bar plot that shows the top 30 programming languages in decreasing order of popularity with the x axis showing the percentage of repositories."
   ]
  },
  {
   "cell_type": "code",
   "execution_count": 1,
   "metadata": {
    "collapsed": true
   },
   "outputs": [],
   "source": [
    "## your code"
   ]
  },
  {
   "cell_type": "markdown",
   "metadata": {},
   "source": [
    "### B. Matrix data visualization (40 points)\n",
    "\n",
    "In this exercise you need to visualize co-usage of pairs of programming languages in GitHub repositories. You have two datasets for this analysis (a) [```repos-per-lang.csv```](repos-per-lang.csv) that contains information about how many GitHub repositories use specific programming language and (b) [```lang-pairs-per-repo-top-1000.csv```](lang-pairs-per-repo-top-1000.csv) that contains information about how many times two programming languages are used in a common repository. In particular, you need to:\n",
    "\n",
    "1. Plot a heatmap visualizing the co-usage counts of programming languages in GitHub repositories with the rows and the columns ordered according to: (a) random permutation, (b) decreasing order of programining language popularity and (c) a monotonic order of the Fiedler vector elements. \n",
    "2. Do the same but for the cosine similarity of pairs of programming languages with respect to their co-usage in GitHub repositories."
   ]
  },
  {
   "cell_type": "code",
   "execution_count": 2,
   "metadata": {
    "collapsed": true
   },
   "outputs": [],
   "source": [
    "## your code"
   ]
  },
  {
   "cell_type": "markdown",
   "metadata": {},
   "source": [
    "### C. Spectral co-clustering (40 points)\n",
    "\n",
    "In this exercise you need to evaluate the robustness of the spectral co-clustering algorithm to random perturbation of a matrix with a bi-cluster structure. In particular, you need to:\n",
    "\n",
    "1. Produce a visualization of five matrices, each with 300 rows and 300 columns and four bi-clusters, using the ```make_biclusters()``` function, for the following values of the standard deviation of noise: $\\sigma$ = 0, 25, 50, 75, and 100. (This visualization may be similar to the one shown on slide 46 of the week 8 lecture.)\n",
    "\n",
    "2. Perform the following steps:\n",
    "  * Generate matrices with the same parameters as in the first question, but for 20 evenly spaced values of the standard deviation of noise in the interval [0,100] \n",
    "  * Randomly permute rows and columns of these matrices \n",
    "  * Apply the spectral co-clustering algorithm to each of these randomly permuted matrices and compute the corresponding consensus score \n",
    "  * Plot the consensus score versus the standard deviation of noise \n",
    "  * Discuss the results"
   ]
  },
  {
   "cell_type": "code",
   "execution_count": 3,
   "metadata": {
    "collapsed": true
   },
   "outputs": [],
   "source": [
    "## your code"
   ]
  }
 ],
 "metadata": {
  "anaconda-cloud": {},
  "kernelspec": {
   "display_name": "Python 3",
   "language": "python",
   "name": "python3"
  },
  "language_info": {
   "codemirror_mode": {
    "name": "ipython",
    "version": 3
   },
   "file_extension": ".py",
   "mimetype": "text/x-python",
   "name": "python",
   "nbconvert_exporter": "python",
   "pygments_lexer": "ipython3",
   "version": "3.6.1"
  }
 },
 "nbformat": 4,
 "nbformat_minor": 1
}
